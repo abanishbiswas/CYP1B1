{
  "nbformat": 4,
  "nbformat_minor": 0,
  "metadata": {
    "colab": {
      "name": "MLR_CYP1b1.ipynb",
      "provenance": []
    },
    "kernelspec": {
      "name": "python3",
      "display_name": "Python 3"
    },
    "language_info": {
      "name": "python"
    }
  },
  "cells": [
    {
      "cell_type": "markdown",
      "source": [
        "import libraries to perform the task"
      ],
      "metadata": {
        "id": "zp1voSAHja-b"
      }
    },
    {
      "cell_type": "code",
      "source": [
        "import pandas as pd\n",
        "import numpy as np"
      ],
      "metadata": {
        "id": "FpJRi9O1jidn"
      },
      "execution_count": null,
      "outputs": []
    },
    {
      "cell_type": "markdown",
      "source": [
        "import dataset"
      ],
      "metadata": {
        "id": "h7a2kDvWjy0d"
      }
    },
    {
      "cell_type": "code",
      "source": [
        "data=pd.read_csv('Dataset1.csv')\n",
        "data.head()"
      ],
      "metadata": {
        "colab": {
          "base_uri": "https://localhost:8080/",
          "height": 206
        },
        "id": "CYXSdNnVj1eK",
        "outputId": "0a0d158e-63a1-464c-e032-4c6104b8de62"
      },
      "execution_count": null,
      "outputs": [
        {
          "output_type": "execute_result",
          "data": {
            "text/plain": [
              "    RECEPTOR_LIGAND     pIC50       ESTAT      HB      VDW      DSOLV\n",
              "0      3pm0_ab_1_BC  6.619789     -0.0605 -1.2707 -12.5334     3.2176\n",
              "1      3pm0_ab_4_BC  4.698970     -0.0482 -0.5903  -8.6868     1.5751\n",
              "2      3pm0_ab_5_BC  6.602060     -0.3955 -1.0635 -12.5881     1.7955\n",
              "3      3pm0_ab_6_BC  6.920819     -0.1713 -0.6000 -12.3158     1.2083\n",
              "4      3pm0_ab_7_BC  7.154902     -0.0624 -0.5607 -12.4820     1.4207"
            ],
            "text/html": [
              "\n",
              "  <div id=\"df-d544e755-8bd2-4631-a0bf-8572a9f56299\">\n",
              "    <div class=\"colab-df-container\">\n",
              "      <div>\n",
              "<style scoped>\n",
              "    .dataframe tbody tr th:only-of-type {\n",
              "        vertical-align: middle;\n",
              "    }\n",
              "\n",
              "    .dataframe tbody tr th {\n",
              "        vertical-align: top;\n",
              "    }\n",
              "\n",
              "    .dataframe thead th {\n",
              "        text-align: right;\n",
              "    }\n",
              "</style>\n",
              "<table border=\"1\" class=\"dataframe\">\n",
              "  <thead>\n",
              "    <tr style=\"text-align: right;\">\n",
              "      <th></th>\n",
              "      <th>RECEPTOR_LIGAND</th>\n",
              "      <th>pIC50</th>\n",
              "      <th>ESTAT</th>\n",
              "      <th>HB</th>\n",
              "      <th>VDW</th>\n",
              "      <th>DSOLV</th>\n",
              "    </tr>\n",
              "  </thead>\n",
              "  <tbody>\n",
              "    <tr>\n",
              "      <th>0</th>\n",
              "      <td>3pm0_ab_1_BC</td>\n",
              "      <td>6.619789</td>\n",
              "      <td>-0.0605</td>\n",
              "      <td>-1.2707</td>\n",
              "      <td>-12.5334</td>\n",
              "      <td>3.2176</td>\n",
              "    </tr>\n",
              "    <tr>\n",
              "      <th>1</th>\n",
              "      <td>3pm0_ab_4_BC</td>\n",
              "      <td>4.698970</td>\n",
              "      <td>-0.0482</td>\n",
              "      <td>-0.5903</td>\n",
              "      <td>-8.6868</td>\n",
              "      <td>1.5751</td>\n",
              "    </tr>\n",
              "    <tr>\n",
              "      <th>2</th>\n",
              "      <td>3pm0_ab_5_BC</td>\n",
              "      <td>6.602060</td>\n",
              "      <td>-0.3955</td>\n",
              "      <td>-1.0635</td>\n",
              "      <td>-12.5881</td>\n",
              "      <td>1.7955</td>\n",
              "    </tr>\n",
              "    <tr>\n",
              "      <th>3</th>\n",
              "      <td>3pm0_ab_6_BC</td>\n",
              "      <td>6.920819</td>\n",
              "      <td>-0.1713</td>\n",
              "      <td>-0.6000</td>\n",
              "      <td>-12.3158</td>\n",
              "      <td>1.2083</td>\n",
              "    </tr>\n",
              "    <tr>\n",
              "      <th>4</th>\n",
              "      <td>3pm0_ab_7_BC</td>\n",
              "      <td>7.154902</td>\n",
              "      <td>-0.0624</td>\n",
              "      <td>-0.5607</td>\n",
              "      <td>-12.4820</td>\n",
              "      <td>1.4207</td>\n",
              "    </tr>\n",
              "  </tbody>\n",
              "</table>\n",
              "</div>\n",
              "      <button class=\"colab-df-convert\" onclick=\"convertToInteractive('df-d544e755-8bd2-4631-a0bf-8572a9f56299')\"\n",
              "              title=\"Convert this dataframe to an interactive table.\"\n",
              "              style=\"display:none;\">\n",
              "        \n",
              "  <svg xmlns=\"http://www.w3.org/2000/svg\" height=\"24px\"viewBox=\"0 0 24 24\"\n",
              "       width=\"24px\">\n",
              "    <path d=\"M0 0h24v24H0V0z\" fill=\"none\"/>\n",
              "    <path d=\"M18.56 5.44l.94 2.06.94-2.06 2.06-.94-2.06-.94-.94-2.06-.94 2.06-2.06.94zm-11 1L8.5 8.5l.94-2.06 2.06-.94-2.06-.94L8.5 2.5l-.94 2.06-2.06.94zm10 10l.94 2.06.94-2.06 2.06-.94-2.06-.94-.94-2.06-.94 2.06-2.06.94z\"/><path d=\"M17.41 7.96l-1.37-1.37c-.4-.4-.92-.59-1.43-.59-.52 0-1.04.2-1.43.59L10.3 9.45l-7.72 7.72c-.78.78-.78 2.05 0 2.83L4 21.41c.39.39.9.59 1.41.59.51 0 1.02-.2 1.41-.59l7.78-7.78 2.81-2.81c.8-.78.8-2.07 0-2.86zM5.41 20L4 18.59l7.72-7.72 1.47 1.35L5.41 20z\"/>\n",
              "  </svg>\n",
              "      </button>\n",
              "      \n",
              "  <style>\n",
              "    .colab-df-container {\n",
              "      display:flex;\n",
              "      flex-wrap:wrap;\n",
              "      gap: 12px;\n",
              "    }\n",
              "\n",
              "    .colab-df-convert {\n",
              "      background-color: #E8F0FE;\n",
              "      border: none;\n",
              "      border-radius: 50%;\n",
              "      cursor: pointer;\n",
              "      display: none;\n",
              "      fill: #1967D2;\n",
              "      height: 32px;\n",
              "      padding: 0 0 0 0;\n",
              "      width: 32px;\n",
              "    }\n",
              "\n",
              "    .colab-df-convert:hover {\n",
              "      background-color: #E2EBFA;\n",
              "      box-shadow: 0px 1px 2px rgba(60, 64, 67, 0.3), 0px 1px 3px 1px rgba(60, 64, 67, 0.15);\n",
              "      fill: #174EA6;\n",
              "    }\n",
              "\n",
              "    [theme=dark] .colab-df-convert {\n",
              "      background-color: #3B4455;\n",
              "      fill: #D2E3FC;\n",
              "    }\n",
              "\n",
              "    [theme=dark] .colab-df-convert:hover {\n",
              "      background-color: #434B5C;\n",
              "      box-shadow: 0px 1px 3px 1px rgba(0, 0, 0, 0.15);\n",
              "      filter: drop-shadow(0px 1px 2px rgba(0, 0, 0, 0.3));\n",
              "      fill: #FFFFFF;\n",
              "    }\n",
              "  </style>\n",
              "\n",
              "      <script>\n",
              "        const buttonEl =\n",
              "          document.querySelector('#df-d544e755-8bd2-4631-a0bf-8572a9f56299 button.colab-df-convert');\n",
              "        buttonEl.style.display =\n",
              "          google.colab.kernel.accessAllowed ? 'block' : 'none';\n",
              "\n",
              "        async function convertToInteractive(key) {\n",
              "          const element = document.querySelector('#df-d544e755-8bd2-4631-a0bf-8572a9f56299');\n",
              "          const dataTable =\n",
              "            await google.colab.kernel.invokeFunction('convertToInteractive',\n",
              "                                                     [key], {});\n",
              "          if (!dataTable) return;\n",
              "\n",
              "          const docLinkHtml = 'Like what you see? Visit the ' +\n",
              "            '<a target=\"_blank\" href=https://colab.research.google.com/notebooks/data_table.ipynb>data table notebook</a>'\n",
              "            + ' to learn more about interactive tables.';\n",
              "          element.innerHTML = '';\n",
              "          dataTable['output_type'] = 'display_data';\n",
              "          await google.colab.output.renderOutput(dataTable, element);\n",
              "          const docLink = document.createElement('div');\n",
              "          docLink.innerHTML = docLinkHtml;\n",
              "          element.appendChild(docLink);\n",
              "        }\n",
              "      </script>\n",
              "    </div>\n",
              "  </div>\n",
              "  "
            ]
          },
          "metadata": {},
          "execution_count": 2
        }
      ]
    },
    {
      "cell_type": "markdown",
      "source": [
        "Define x and y"
      ],
      "metadata": {
        "id": "QcbVkg61kSu6"
      }
    },
    {
      "cell_type": "code",
      "source": [
        "y = data['pIC50']\n",
        "x = data.drop(labels=['RECEPTOR_LIGAND', 'pIC50'], axis = 'columns')"
      ],
      "metadata": {
        "id": "ZVJD_78flcH6"
      },
      "execution_count": null,
      "outputs": []
    },
    {
      "cell_type": "code",
      "source": [
        "print(x)"
      ],
      "metadata": {
        "colab": {
          "base_uri": "https://localhost:8080/"
        },
        "id": "JvynBtmIlhs2",
        "outputId": "8694c3f4-2e55-405c-ca61-d5556ea6b40b"
      },
      "execution_count": null,
      "outputs": [
        {
          "output_type": "stream",
          "name": "stdout",
          "text": [
            "          ESTAT      HB      VDW      DSOLV\n",
            "0       -0.0605 -1.2707 -12.5334     3.2176\n",
            "1       -0.0482 -0.5903  -8.6868     1.5751\n",
            "2       -0.3955 -1.0635 -12.5881     1.7955\n",
            "3       -0.1713 -0.6000 -12.3158     1.2083\n",
            "4       -0.0624 -0.5607 -12.4820     1.4207\n",
            "..          ...     ...      ...        ...\n",
            "316      0.1271 -1.4212 -10.4479     1.8965\n",
            "317     -0.1184 -0.8472 -14.7992     3.2839\n",
            "318     -0.0787 -1.1483 -13.3799     2.9682\n",
            "319     -0.0639 -0.4082 -11.4333     0.0561\n",
            "320     -0.0617 -1.2691 -12.7439     2.0174\n",
            "\n",
            "[321 rows x 4 columns]\n"
          ]
        }
      ]
    },
    {
      "cell_type": "code",
      "source": [
        "print(y)"
      ],
      "metadata": {
        "colab": {
          "base_uri": "https://localhost:8080/"
        },
        "id": "O51wpCEBnMz0",
        "outputId": "d3e6d1cf-7cf8-4628-c7a8-d8b7e8af5bfd"
      },
      "execution_count": null,
      "outputs": [
        {
          "output_type": "stream",
          "name": "stdout",
          "text": [
            "0      6.619789\n",
            "1      4.698970\n",
            "2      6.602060\n",
            "3      6.920819\n",
            "4      7.154902\n",
            "         ...   \n",
            "316    6.301030\n",
            "317    5.387216\n",
            "318    5.004365\n",
            "319    5.468521\n",
            "320    6.853872\n",
            "Name: pIC50, Length: 321, dtype: float64\n"
          ]
        }
      ]
    },
    {
      "cell_type": "markdown",
      "source": [
        "split the database to train and test set"
      ],
      "metadata": {
        "id": "VIXiZ9vSnTCZ"
      }
    },
    {
      "cell_type": "code",
      "source": [
        "from sklearn.model_selection import train_test_split\n",
        "x_train,x_test,y_train,y_test=train_test_split(x,y,test_size=0.3,random_state=4)"
      ],
      "metadata": {
        "id": "pUdUFGzznYt4"
      },
      "execution_count": null,
      "outputs": []
    },
    {
      "cell_type": "markdown",
      "source": [
        "Train the model on training **set**"
      ],
      "metadata": {
        "id": "SI387xIsoFKN"
      }
    },
    {
      "cell_type": "code",
      "source": [
        "from sklearn.linear_model import LinearRegression\n",
        "ml=LinearRegression()\n",
        "ml.fit(x_train,y_train)"
      ],
      "metadata": {
        "colab": {
          "base_uri": "https://localhost:8080/"
        },
        "id": "ja_62oIXoN01",
        "outputId": "cb544585-8e8a-4ee6-fd41-c42e1963a3c5"
      },
      "execution_count": null,
      "outputs": [
        {
          "output_type": "execute_result",
          "data": {
            "text/plain": [
              "LinearRegression()"
            ]
          },
          "metadata": {},
          "execution_count": 7
        }
      ]
    },
    {
      "cell_type": "markdown",
      "source": [
        "Predict the test set results"
      ],
      "metadata": {
        "id": "qT5hU_C6oscD"
      }
    },
    {
      "cell_type": "code",
      "source": [
        "y_pred=ml.predict(x_test)\n",
        "print(y_pred)"
      ],
      "metadata": {
        "colab": {
          "base_uri": "https://localhost:8080/"
        },
        "id": "cePeipq3oxJi",
        "outputId": "18264b52-16c4-4407-f577-c2147bb91f21"
      },
      "execution_count": null,
      "outputs": [
        {
          "output_type": "stream",
          "name": "stdout",
          "text": [
            "[7.49253465 7.53583729 6.77622853 8.01582695 6.76319179 6.7099665\n",
            " 6.3729043  7.1685107  7.50800742 6.95570706 6.77598911 6.75660052\n",
            " 7.38792444 7.23312023 7.75607616 7.81981214 8.49068094 6.29612651\n",
            " 7.48273903 7.435294   6.81269836 7.44303664 5.90538029 7.2976938\n",
            " 7.49010669 7.51747414 6.88144408 6.68556628 7.3044501  6.50780271\n",
            " 6.94481655 7.27231216 6.9815109  7.20916449 7.99122316 7.42132913\n",
            " 7.44562638 7.23090417 6.4344831  6.66684053 6.62082062 6.78314312\n",
            " 7.24402728 7.40204526 7.62572113 7.0948196  6.37750524 6.6966292\n",
            " 7.15629063 6.45978977 7.26489514 6.78044563 6.99133289 7.93403754\n",
            " 7.62556425 6.77765884 6.75225077 7.81437382 7.18610675 7.4667159\n",
            " 6.06240972 6.9007953  7.09343733 7.47327656 7.37673897 6.40032644\n",
            " 7.44837813 6.60826305 6.50657029 6.8896797  7.36593856 6.24424639\n",
            " 7.33755226 8.22804095 8.14728466 6.9083104  6.81894884 7.19912051\n",
            " 7.02186799 7.29534185 5.55220235 6.57731289 7.32545424 7.32049392\n",
            " 7.51430033 6.29075082 6.82669528 7.66874304 6.86268616 6.87885527\n",
            " 7.10901723 6.72125172 7.31000398 6.88682833 7.4405425  7.98411605\n",
            " 7.34964732]\n"
          ]
        }
      ]
    },
    {
      "cell_type": "code",
      "source": [
        "ml.predict([[-0.0605,-1.2707,-12.5334,3.2176]])"
      ],
      "metadata": {
        "colab": {
          "base_uri": "https://localhost:8080/"
        },
        "id": "pTEoYuAJpIrL",
        "outputId": "da63ddf7-1dec-47c0-e795-07a6545546ff"
      },
      "execution_count": null,
      "outputs": [
        {
          "output_type": "stream",
          "name": "stderr",
          "text": [
            "/usr/local/lib/python3.7/dist-packages/sklearn/base.py:451: UserWarning: X does not have valid feature names, but LinearRegression was fitted with feature names\n",
            "  \"X does not have valid feature names, but\"\n"
          ]
        },
        {
          "output_type": "execute_result",
          "data": {
            "text/plain": [
              "array([6.70081402])"
            ]
          },
          "metadata": {},
          "execution_count": 9
        }
      ]
    },
    {
      "cell_type": "code",
      "source": [
        "print(ml.coef_)\n",
        "print(ml.intercept_)\n",
        "ml.score(x_train,y_train)"
      ],
      "metadata": {
        "colab": {
          "base_uri": "https://localhost:8080/"
        },
        "id": "AEcJA4vTsrK5",
        "outputId": "1641c069-2183-4121-c92b-642fa9fcba27"
      },
      "execution_count": null,
      "outputs": [
        {
          "output_type": "stream",
          "name": "stdout",
          "text": [
            "[1.58857334 0.7907093  0.11631376 0.24844491]\n",
            "8.460087487354265\n"
          ]
        },
        {
          "output_type": "execute_result",
          "data": {
            "text/plain": [
              "0.1889416108439721"
            ]
          },
          "metadata": {},
          "execution_count": 10
        }
      ]
    },
    {
      "cell_type": "markdown",
      "source": [
        "Evaluate the model"
      ],
      "metadata": {
        "id": "LHjLyBsgpwhA"
      }
    },
    {
      "cell_type": "code",
      "source": [
        "from sklearn.metrics import r2_score\n",
        "r2_score(y_test,y_pred)"
      ],
      "metadata": {
        "colab": {
          "base_uri": "https://localhost:8080/"
        },
        "id": "xh_3gYSKpzx1",
        "outputId": "c76f2b1f-dbd6-49c5-e41f-c19195c4f25e"
      },
      "execution_count": null,
      "outputs": [
        {
          "output_type": "execute_result",
          "data": {
            "text/plain": [
              "0.17674901501440987"
            ]
          },
          "metadata": {},
          "execution_count": 11
        }
      ]
    },
    {
      "cell_type": "markdown",
      "source": [
        "Plot the result"
      ],
      "metadata": {
        "id": "NRF26s2LqXHZ"
      }
    },
    {
      "cell_type": "code",
      "source": [
        "import matplotlib.pyplot as plt\n",
        "plt.figure(figsize=(15,10))\n",
        "plt.scatter(y_test,y_pred)\n",
        "plt.xlabel('Actual')\n",
        "plt.ylabel('Predicted')\n",
        "plt.title('Actual v/s Predicted')"
      ],
      "metadata": {
        "colab": {
          "base_uri": "https://localhost:8080/",
          "height": 617
        },
        "id": "Oafvd03kqvvN",
        "outputId": "2cf29052-bf00-43c2-9ced-150d7d07c94f"
      },
      "execution_count": null,
      "outputs": [
        {
          "output_type": "execute_result",
          "data": {
            "text/plain": [
              "Text(0.5, 1.0, 'Actual v/s Predicted')"
            ]
          },
          "metadata": {},
          "execution_count": 12
        },
        {
          "output_type": "display_data",
          "data": {
            "text/plain": [
              "<Figure size 1080x720 with 1 Axes>"
            ],
            "image/png": "[encoded data removed]"
          },
          "metadata": {
            "needs_background": "light"
          }
        }
      ]
    },
    {
      "cell_type": "code",
      "source": [
        "import seaborn as sns"
      ],
      "metadata": {
        "id": "BQV2fUwlr3e1"
      },
      "execution_count": null,
      "outputs": []
    },
    {
      "cell_type": "code",
      "source": [
        "sns.set(color_codes=True)\n",
        "sns.set_style(\"white\")\n",
        "\n",
        "ax = sns.regplot(y_test, y_pred, scatter_kws={'alpha':0.5})\n",
        "ax.set_xlabel('Experimental pIC50', fontsize='large', fontweight='bold')\n",
        "ax.set_ylabel('Predicted pIC50', fontsize='large', fontweight='bold')\n",
        "ax.set_xlim(4, 10)\n",
        "ax.set_ylim(5, 9)\n",
        "ax.figure.set_size_inches(10, 10)\n",
        "plt.show\n",
        "plt.savefig('Linear regression plot')"
      ],
      "metadata": {
        "colab": {
          "base_uri": "https://localhost:8080/",
          "height": 671
        },
        "id": "uD-IC0lbr55q",
        "outputId": "09fd0b64-7ea1-4374-8967-a07bca244904"
      },
      "execution_count": null,
      "outputs": [
        {
          "output_type": "stream",
          "name": "stderr",
          "text": [
            "/usr/local/lib/python3.7/dist-packages/seaborn/_decorators.py:43: FutureWarning: Pass the following variables as keyword args: x, y. From version 0.12, the only valid positional argument will be `data`, and passing other arguments without an explicit keyword will result in an error or misinterpretation.\n",
            "  FutureWarning\n"
          ]
        },
        {
          "output_type": "display_data",
          "data": {
            "text/plain": [
              "<Figure size 720x720 with 1 Axes>"
            ],
            "image/png": "[encoded data removed]"
          },
          "metadata": {}
        }
      ]
    },
    {
      "cell_type": "code",
      "source": [
        "pred_y_df=pd.DataFrame({'Actual Value':y_test,'Predicted Value':y_pred, 'Difference': y_test-y_pred})\n",
        "pred_y_df[0:20]"
      ],
      "metadata": {
        "colab": {
          "base_uri": "https://localhost:8080/",
          "height": 677
        },
        "id": "iAz5Z3_Ss-Lb",
        "outputId": "36be1a56-7ca3-46b7-b2fe-c2cf3b449971"
      },
      "execution_count": null,
      "outputs": [
        {
          "output_type": "execute_result",
          "data": {
            "text/plain": [
              "     Actual Value  Predicted Value  Difference\n",
              "271      7.494850         7.492535    0.002315\n",
              "47       8.522879         7.535837    0.987041\n",
              "301      6.045757         6.776229   -0.730471\n",
              "218      8.187087         8.015827    0.171260\n",
              "284      6.823909         6.763192    0.060717\n",
              "18       7.259637         6.709966    0.549671\n",
              "133      6.949234         6.372904    0.576329\n",
              "172      8.698970         7.168511    1.530459\n",
              "45       8.638272         7.508007    1.130265\n",
              "302      5.686133         6.955707   -1.269574\n",
              "14       5.397940         6.775989   -1.378049\n",
              "13       5.397940         6.756601   -1.358661\n",
              "6        6.522879         7.387924   -0.865046\n",
              "112      7.179799         7.233120   -0.053322\n",
              "195      8.318759         7.756076    0.562683\n",
              "88       5.229148         7.819812   -2.590664\n",
              "200      8.958607         8.490681    0.467926\n",
              "315      6.154902         6.296127   -0.141225\n",
              "160      8.136677         7.482739    0.653938\n",
              "89       6.096910         7.435294   -1.338384"
            ],
            "text/html": [
              "\n",
              "  <div id=\"df-51b22751-8f70-4231-b8be-5bbd8887bb4d\">\n",
              "    <div class=\"colab-df-container\">\n",
              "      <div>\n",
              "<style scoped>\n",
              "    .dataframe tbody tr th:only-of-type {\n",
              "        vertical-align: middle;\n",
              "    }\n",
              "\n",
              "    .dataframe tbody tr th {\n",
              "        vertical-align: top;\n",
              "    }\n",
              "\n",
              "    .dataframe thead th {\n",
              "        text-align: right;\n",
              "    }\n",
              "</style>\n",
              "<table border=\"1\" class=\"dataframe\">\n",
              "  <thead>\n",
              "    <tr style=\"text-align: right;\">\n",
              "      <th></th>\n",
              "      <th>Actual Value</th>\n",
              "      <th>Predicted Value</th>\n",
              "      <th>Difference</th>\n",
              "    </tr>\n",
              "  </thead>\n",
              "  <tbody>\n",
              "    <tr>\n",
              "      <th>271</th>\n",
              "      <td>7.494850</td>\n",
              "      <td>7.492535</td>\n",
              "      <td>0.002315</td>\n",
              "    </tr>\n",
              "    <tr>\n",
              "      <th>47</th>\n",
              "      <td>8.522879</td>\n",
              "      <td>7.535837</td>\n",
              "      <td>0.987041</td>\n",
              "    </tr>\n",
              "    <tr>\n",
              "      <th>301</th>\n",
              "      <td>6.045757</td>\n",
              "      <td>6.776229</td>\n",
              "      <td>-0.730471</td>\n",
              "    </tr>\n",
              "    <tr>\n",
              "      <th>218</th>\n",
              "      <td>8.187087</td>\n",
              "      <td>8.015827</td>\n",
              "      <td>0.171260</td>\n",
              "    </tr>\n",
              "    <tr>\n",
              "      <th>284</th>\n",
              "      <td>6.823909</td>\n",
              "      <td>6.763192</td>\n",
              "      <td>0.060717</td>\n",
              "    </tr>\n",
              "    <tr>\n",
              "      <th>18</th>\n",
              "      <td>7.259637</td>\n",
              "      <td>6.709966</td>\n",
              "      <td>0.549671</td>\n",
              "    </tr>\n",
              "    <tr>\n",
              "      <th>133</th>\n",
              "      <td>6.949234</td>\n",
              "      <td>6.372904</td>\n",
              "      <td>0.576329</td>\n",
              "    </tr>\n",
              "    <tr>\n",
              "      <th>172</th>\n",
              "      <td>8.698970</td>\n",
              "      <td>7.168511</td>\n",
              "      <td>1.530459</td>\n",
              "    </tr>\n",
              "    <tr>\n",
              "      <th>45</th>\n",
              "      <td>8.638272</td>\n",
              "      <td>7.508007</td>\n",
              "      <td>1.130265</td>\n",
              "    </tr>\n",
              "    <tr>\n",
              "      <th>302</th>\n",
              "      <td>5.686133</td>\n",
              "      <td>6.955707</td>\n",
              "      <td>-1.269574</td>\n",
              "    </tr>\n",
              "    <tr>\n",
              "      <th>14</th>\n",
              "      <td>5.397940</td>\n",
              "      <td>6.775989</td>\n",
              "      <td>-1.378049</td>\n",
              "    </tr>\n",
              "    <tr>\n",
              "      <th>13</th>\n",
              "      <td>5.397940</td>\n",
              "      <td>6.756601</td>\n",
              "      <td>-1.358661</td>\n",
              "    </tr>\n",
              "    <tr>\n",
              "      <th>6</th>\n",
              "      <td>6.522879</td>\n",
              "      <td>7.387924</td>\n",
              "      <td>-0.865046</td>\n",
              "    </tr>\n",
              "    <tr>\n",
              "      <th>112</th>\n",
              "      <td>7.179799</td>\n",
              "      <td>7.233120</td>\n",
              "      <td>-0.053322</td>\n",
              "    </tr>\n",
              "    <tr>\n",
              "      <th>195</th>\n",
              "      <td>8.318759</td>\n",
              "      <td>7.756076</td>\n",
              "      <td>0.562683</td>\n",
              "    </tr>\n",
              "    <tr>\n",
              "      <th>88</th>\n",
              "      <td>5.229148</td>\n",
              "      <td>7.819812</td>\n",
              "      <td>-2.590664</td>\n",
              "    </tr>\n",
              "    <tr>\n",
              "      <th>200</th>\n",
              "      <td>8.958607</td>\n",
              "      <td>8.490681</td>\n",
              "      <td>0.467926</td>\n",
              "    </tr>\n",
              "    <tr>\n",
              "      <th>315</th>\n",
              "      <td>6.154902</td>\n",
              "      <td>6.296127</td>\n",
              "      <td>-0.141225</td>\n",
              "    </tr>\n",
              "    <tr>\n",
              "      <th>160</th>\n",
              "      <td>8.136677</td>\n",
              "      <td>7.482739</td>\n",
              "      <td>0.653938</td>\n",
              "    </tr>\n",
              "    <tr>\n",
              "      <th>89</th>\n",
              "      <td>6.096910</td>\n",
              "      <td>7.435294</td>\n",
              "      <td>-1.338384</td>\n",
              "    </tr>\n",
              "  </tbody>\n",
              "</table>\n",
              "</div>\n",
              "      <button class=\"colab-df-convert\" onclick=\"convertToInteractive('df-51b22751-8f70-4231-b8be-5bbd8887bb4d')\"\n",
              "              title=\"Convert this dataframe to an interactive table.\"\n",
              "              style=\"display:none;\">\n",
              "        \n",
              "  <svg xmlns=\"http://www.w3.org/2000/svg\" height=\"24px\"viewBox=\"0 0 24 24\"\n",
              "       width=\"24px\">\n",
              "    <path d=\"M0 0h24v24H0V0z\" fill=\"none\"/>\n",
              "    <path d=\"M18.56 5.44l.94 2.06.94-2.06 2.06-.94-2.06-.94-.94-2.06-.94 2.06-2.06.94zm-11 1L8.5 8.5l.94-2.06 2.06-.94-2.06-.94L8.5 2.5l-.94 2.06-2.06.94zm10 10l.94 2.06.94-2.06 2.06-.94-2.06-.94-.94-2.06-.94 2.06-2.06.94z\"/><path d=\"M17.41 7.96l-1.37-1.37c-.4-.4-.92-.59-1.43-.59-.52 0-1.04.2-1.43.59L10.3 9.45l-7.72 7.72c-.78.78-.78 2.05 0 2.83L4 21.41c.39.39.9.59 1.41.59.51 0 1.02-.2 1.41-.59l7.78-7.78 2.81-2.81c.8-.78.8-2.07 0-2.86zM5.41 20L4 18.59l7.72-7.72 1.47 1.35L5.41 20z\"/>\n",
              "  </svg>\n",
              "      </button>\n",
              "      \n",
              "  <style>\n",
              "    .colab-df-container {\n",
              "      display:flex;\n",
              "      flex-wrap:wrap;\n",
              "      gap: 12px;\n",
              "    }\n",
              "\n",
              "    .colab-df-convert {\n",
              "      background-color: #E8F0FE;\n",
              "      border: none;\n",
              "      border-radius: 50%;\n",
              "      cursor: pointer;\n",
              "      display: none;\n",
              "      fill: #1967D2;\n",
              "      height: 32px;\n",
              "      padding: 0 0 0 0;\n",
              "      width: 32px;\n",
              "    }\n",
              "\n",
              "    .colab-df-convert:hover {\n",
              "      background-color: #E2EBFA;\n",
              "      box-shadow: 0px 1px 2px rgba(60, 64, 67, 0.3), 0px 1px 3px 1px rgba(60, 64, 67, 0.15);\n",
              "      fill: #174EA6;\n",
              "    }\n",
              "\n",
              "    [theme=dark] .colab-df-convert {\n",
              "      background-color: #3B4455;\n",
              "      fill: #D2E3FC;\n",
              "    }\n",
              "\n",
              "    [theme=dark] .colab-df-convert:hover {\n",
              "      background-color: #434B5C;\n",
              "      box-shadow: 0px 1px 3px 1px rgba(0, 0, 0, 0.15);\n",
              "      filter: drop-shadow(0px 1px 2px rgba(0, 0, 0, 0.3));\n",
              "      fill: #FFFFFF;\n",
              "    }\n",
              "  </style>\n",
              "\n",
              "      <script>\n",
              "        const buttonEl =\n",
              "          document.querySelector('#df-51b22751-8f70-4231-b8be-5bbd8887bb4d button.colab-df-convert');\n",
              "        buttonEl.style.display =\n",
              "          google.colab.kernel.accessAllowed ? 'block' : 'none';\n",
              "\n",
              "        async function convertToInteractive(key) {\n",
              "          const element = document.querySelector('#df-51b22751-8f70-4231-b8be-5bbd8887bb4d');\n",
              "          const dataTable =\n",
              "            await google.colab.kernel.invokeFunction('convertToInteractive',\n",
              "                                                     [key], {});\n",
              "          if (!dataTable) return;\n",
              "\n",
              "          const docLinkHtml = 'Like what you see? Visit the ' +\n",
              "            '<a target=\"_blank\" href=https://colab.research.google.com/notebooks/data_table.ipynb>data table notebook</a>'\n",
              "            + ' to learn more about interactive tables.';\n",
              "          element.innerHTML = '';\n",
              "          dataTable['output_type'] = 'display_data';\n",
              "          await google.colab.output.renderOutput(dataTable, element);\n",
              "          const docLink = document.createElement('div');\n",
              "          docLink.innerHTML = docLinkHtml;\n",
              "          element.appendChild(docLink);\n",
              "        }\n",
              "      </script>\n",
              "    </div>\n",
              "  </div>\n",
              "  "
            ]
          },
          "metadata": {},
          "execution_count": 16
        }
      ]
    }
  ]
}