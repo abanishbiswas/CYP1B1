{
  "nbformat": 4,
  "nbformat_minor": 0,
  "metadata": {
    "colab": {
      "name": "SVR_CYP1B1.ipynb",
      "provenance": []
    },
    "kernelspec": {
      "name": "python3",
      "display_name": "Python 3"
    },
    "language_info": {
      "name": "python"
    }
  },
  "cells": [
    {
      "cell_type": "code",
      "execution_count": null,
      "metadata": {
        "id": "4XH9KW3wwwHM"
      },
      "outputs": [],
      "source": [
        "import pandas as pd\n",
        "import numpy as np"
      ]
    },
    {
      "cell_type": "code",
      "source": [
        "data=pd.read_csv('Dataset1.csv')\n",
        "data.head()"
      ],
      "metadata": {
        "colab": {
          "base_uri": "https://localhost:8080/",
          "height": 206
        },
        "id": "iW-l3odmxLcM",
        "outputId": "2676abba-67c3-4ab6-ff77-dff66b520901"
      },
      "execution_count": null,
      "outputs": [
        {
          "output_type": "execute_result",
          "data": {
            "text/plain": [
              "    RECEPTOR_LIGAND     pIC50       ESTAT      HB      VDW      DSOLV\n",
              "0      3pm0_ab_1_BC  6.619789     -0.0605 -1.2707 -12.5334     3.2176\n",
              "1      3pm0_ab_4_BC  4.698970     -0.0482 -0.5903  -8.6868     1.5751\n",
              "2      3pm0_ab_5_BC  6.602060     -0.3955 -1.0635 -12.5881     1.7955\n",
              "3      3pm0_ab_6_BC  6.920819     -0.1713 -0.6000 -12.3158     1.2083\n",
              "4      3pm0_ab_7_BC  7.154902     -0.0624 -0.5607 -12.4820     1.4207"
            ],
            "text/html": [
              "\n",
              "  <div id=\"df-ec255654-4461-4bc6-b0f8-7acfa1422a12\">\n",
              "    <div class=\"colab-df-container\">\n",
              "      <div>\n",
              "<style scoped>\n",
              "    .dataframe tbody tr th:only-of-type {\n",
              "        vertical-align: middle;\n",
              "    }\n",
              "\n",
              "    .dataframe tbody tr th {\n",
              "        vertical-align: top;\n",
              "    }\n",
              "\n",
              "    .dataframe thead th {\n",
              "        text-align: right;\n",
              "    }\n",
              "</style>\n",
              "<table border=\"1\" class=\"dataframe\">\n",
              "  <thead>\n",
              "    <tr style=\"text-align: right;\">\n",
              "      <th></th>\n",
              "      <th>RECEPTOR_LIGAND</th>\n",
              "      <th>pIC50</th>\n",
              "      <th>ESTAT</th>\n",
              "      <th>HB</th>\n",
              "      <th>VDW</th>\n",
              "      <th>DSOLV</th>\n",
              "    </tr>\n",
              "  </thead>\n",
              "  <tbody>\n",
              "    <tr>\n",
              "      <th>0</th>\n",
              "      <td>3pm0_ab_1_BC</td>\n",
              "      <td>6.619789</td>\n",
              "      <td>-0.0605</td>\n",
              "      <td>-1.2707</td>\n",
              "      <td>-12.5334</td>\n",
              "      <td>3.2176</td>\n",
              "    </tr>\n",
              "    <tr>\n",
              "      <th>1</th>\n",
              "      <td>3pm0_ab_4_BC</td>\n",
              "      <td>4.698970</td>\n",
              "      <td>-0.0482</td>\n",
              "      <td>-0.5903</td>\n",
              "      <td>-8.6868</td>\n",
              "      <td>1.5751</td>\n",
              "    </tr>\n",
              "    <tr>\n",
              "      <th>2</th>\n",
              "      <td>3pm0_ab_5_BC</td>\n",
              "      <td>6.602060</td>\n",
              "      <td>-0.3955</td>\n",
              "      <td>-1.0635</td>\n",
              "      <td>-12.5881</td>\n",
              "      <td>1.7955</td>\n",
              "    </tr>\n",
              "    <tr>\n",
              "      <th>3</th>\n",
              "      <td>3pm0_ab_6_BC</td>\n",
              "      <td>6.920819</td>\n",
              "      <td>-0.1713</td>\n",
              "      <td>-0.6000</td>\n",
              "      <td>-12.3158</td>\n",
              "      <td>1.2083</td>\n",
              "    </tr>\n",
              "    <tr>\n",
              "      <th>4</th>\n",
              "      <td>3pm0_ab_7_BC</td>\n",
              "      <td>7.154902</td>\n",
              "      <td>-0.0624</td>\n",
              "      <td>-0.5607</td>\n",
              "      <td>-12.4820</td>\n",
              "      <td>1.4207</td>\n",
              "    </tr>\n",
              "  </tbody>\n",
              "</table>\n",
              "</div>\n",
              "      <button class=\"colab-df-convert\" onclick=\"convertToInteractive('df-ec255654-4461-4bc6-b0f8-7acfa1422a12')\"\n",
              "              title=\"Convert this dataframe to an interactive table.\"\n",
              "              style=\"display:none;\">\n",
              "        \n",
              "  <svg xmlns=\"http://www.w3.org/2000/svg\" height=\"24px\"viewBox=\"0 0 24 24\"\n",
              "       width=\"24px\">\n",
              "    <path d=\"M0 0h24v24H0V0z\" fill=\"none\"/>\n",
              "    <path d=\"M18.56 5.44l.94 2.06.94-2.06 2.06-.94-2.06-.94-.94-2.06-.94 2.06-2.06.94zm-11 1L8.5 8.5l.94-2.06 2.06-.94-2.06-.94L8.5 2.5l-.94 2.06-2.06.94zm10 10l.94 2.06.94-2.06 2.06-.94-2.06-.94-.94-2.06-.94 2.06-2.06.94z\"/><path d=\"M17.41 7.96l-1.37-1.37c-.4-.4-.92-.59-1.43-.59-.52 0-1.04.2-1.43.59L10.3 9.45l-7.72 7.72c-.78.78-.78 2.05 0 2.83L4 21.41c.39.39.9.59 1.41.59.51 0 1.02-.2 1.41-.59l7.78-7.78 2.81-2.81c.8-.78.8-2.07 0-2.86zM5.41 20L4 18.59l7.72-7.72 1.47 1.35L5.41 20z\"/>\n",
              "  </svg>\n",
              "      </button>\n",
              "      \n",
              "  <style>\n",
              "    .colab-df-container {\n",
              "      display:flex;\n",
              "      flex-wrap:wrap;\n",
              "      gap: 12px;\n",
              "    }\n",
              "\n",
              "    .colab-df-convert {\n",
              "      background-color: #E8F0FE;\n",
              "      border: none;\n",
              "      border-radius: 50%;\n",
              "      cursor: pointer;\n",
              "      display: none;\n",
              "      fill: #1967D2;\n",
              "      height: 32px;\n",
              "      padding: 0 0 0 0;\n",
              "      width: 32px;\n",
              "    }\n",
              "\n",
              "    .colab-df-convert:hover {\n",
              "      background-color: #E2EBFA;\n",
              "      box-shadow: 0px 1px 2px rgba(60, 64, 67, 0.3), 0px 1px 3px 1px rgba(60, 64, 67, 0.15);\n",
              "      fill: #174EA6;\n",
              "    }\n",
              "\n",
              "    [theme=dark] .colab-df-convert {\n",
              "      background-color: #3B4455;\n",
              "      fill: #D2E3FC;\n",
              "    }\n",
              "\n",
              "    [theme=dark] .colab-df-convert:hover {\n",
              "      background-color: #434B5C;\n",
              "      box-shadow: 0px 1px 3px 1px rgba(0, 0, 0, 0.15);\n",
              "      filter: drop-shadow(0px 1px 2px rgba(0, 0, 0, 0.3));\n",
              "      fill: #FFFFFF;\n",
              "    }\n",
              "  </style>\n",
              "\n",
              "      <script>\n",
              "        const buttonEl =\n",
              "          document.querySelector('#df-ec255654-4461-4bc6-b0f8-7acfa1422a12 button.colab-df-convert');\n",
              "        buttonEl.style.display =\n",
              "          google.colab.kernel.accessAllowed ? 'block' : 'none';\n",
              "\n",
              "        async function convertToInteractive(key) {\n",
              "          const element = document.querySelector('#df-ec255654-4461-4bc6-b0f8-7acfa1422a12');\n",
              "          const dataTable =\n",
              "            await google.colab.kernel.invokeFunction('convertToInteractive',\n",
              "                                                     [key], {});\n",
              "          if (!dataTable) return;\n",
              "\n",
              "          const docLinkHtml = 'Like what you see? Visit the ' +\n",
              "            '<a target=\"_blank\" href=https://colab.research.google.com/notebooks/data_table.ipynb>data table notebook</a>'\n",
              "            + ' to learn more about interactive tables.';\n",
              "          element.innerHTML = '';\n",
              "          dataTable['output_type'] = 'display_data';\n",
              "          await google.colab.output.renderOutput(dataTable, element);\n",
              "          const docLink = document.createElement('div');\n",
              "          docLink.innerHTML = docLinkHtml;\n",
              "          element.appendChild(docLink);\n",
              "        }\n",
              "      </script>\n",
              "    </div>\n",
              "  </div>\n",
              "  "
            ]
          },
          "metadata": {},
          "execution_count": 2
        }
      ]
    },
    {
      "cell_type": "code",
      "source": [
        "y = data['pIC50']\n",
        "x = data.drop(labels=['RECEPTOR_LIGAND', 'pIC50'], axis = 'columns')"
      ],
      "metadata": {
        "id": "tSy3um96xNJu"
      },
      "execution_count": null,
      "outputs": []
    },
    {
      "cell_type": "code",
      "source": [
        "print(x)"
      ],
      "metadata": {
        "colab": {
          "base_uri": "https://localhost:8080/"
        },
        "id": "mdtrGuEkxSFY",
        "outputId": "85e41321-f7b0-4b41-d39d-abf09d58c651"
      },
      "execution_count": null,
      "outputs": [
        {
          "output_type": "stream",
          "name": "stdout",
          "text": [
            "          ESTAT      HB      VDW      DSOLV\n",
            "0       -0.0605 -1.2707 -12.5334     3.2176\n",
            "1       -0.0482 -0.5903  -8.6868     1.5751\n",
            "2       -0.3955 -1.0635 -12.5881     1.7955\n",
            "3       -0.1713 -0.6000 -12.3158     1.2083\n",
            "4       -0.0624 -0.5607 -12.4820     1.4207\n",
            "..          ...     ...      ...        ...\n",
            "316      0.1271 -1.4212 -10.4479     1.8965\n",
            "317     -0.1184 -0.8472 -14.7992     3.2839\n",
            "318     -0.0787 -1.1483 -13.3799     2.9682\n",
            "319     -0.0639 -0.4082 -11.4333     0.0561\n",
            "320     -0.0617 -1.2691 -12.7439     2.0174\n",
            "\n",
            "[321 rows x 4 columns]\n"
          ]
        }
      ]
    },
    {
      "cell_type": "code",
      "source": [
        "print(y)"
      ],
      "metadata": {
        "colab": {
          "base_uri": "https://localhost:8080/"
        },
        "id": "C4hrfaBUxVD_",
        "outputId": "e1184f5e-9fba-4558-cf43-23341210b5ca"
      },
      "execution_count": null,
      "outputs": [
        {
          "output_type": "stream",
          "name": "stdout",
          "text": [
            "0      6.619789\n",
            "1      4.698970\n",
            "2      6.602060\n",
            "3      6.920819\n",
            "4      7.154902\n",
            "         ...   \n",
            "316    6.301030\n",
            "317    5.387216\n",
            "318    5.004365\n",
            "319    5.468521\n",
            "320    6.853872\n",
            "Name: pIC50, Length: 321, dtype: float64\n"
          ]
        }
      ]
    },
    {
      "cell_type": "code",
      "source": [
        "from sklearn.model_selection import train_test_split\n",
        "x_train,x_test,y_train,y_test=train_test_split(x,y,test_size=0.3,random_state=32)"
      ],
      "metadata": {
        "id": "dhiaI4vixWrd"
      },
      "execution_count": null,
      "outputs": []
    },
    {
      "cell_type": "code",
      "source": [
        "from sklearn.svm import SVR\n",
        "sr = SVR()\n",
        "sr.fit(x_train,y_train)\n",
        "sr.score(x_train, y_train)"
      ],
      "metadata": {
        "colab": {
          "base_uri": "https://localhost:8080/"
        },
        "id": "UEmthuOax4gr",
        "outputId": "3e9d7143-82cd-4987-f6d2-5908640d7f1d"
      },
      "execution_count": null,
      "outputs": [
        {
          "output_type": "execute_result",
          "data": {
            "text/plain": [
              "0.10866358709592372"
            ]
          },
          "metadata": {},
          "execution_count": 7
        }
      ]
    },
    {
      "cell_type": "code",
      "source": [
        "y_pred=sr.predict(x_test)\n",
        "print(y_pred)"
      ],
      "metadata": {
        "colab": {
          "base_uri": "https://localhost:8080/"
        },
        "id": "nniHvke5ySF4",
        "outputId": "32f0fbbe-94d1-430f-9219-47aafc0147f8"
      },
      "execution_count": null,
      "outputs": [
        {
          "output_type": "stream",
          "name": "stdout",
          "text": [
            "[6.76691549 7.14406083 7.02054048 7.58397584 7.2521099  7.34516264\n",
            " 7.47223319 7.36901997 6.99038902 7.03851904 6.69034833 7.02656969\n",
            " 7.12470881 6.69492662 7.02665487 7.18732495 7.05279071 6.8469293\n",
            " 7.03147197 7.23759248 6.5773702  6.87887839 7.13106327 7.22479074\n",
            " 6.91243243 6.91960531 7.28755876 6.57003253 7.34741827 7.44569312\n",
            " 6.68563247 7.21742961 7.33678949 7.32316162 6.99040215 6.78255542\n",
            " 7.26785382 6.79340585 7.25488709 7.01281477 7.2906203  7.16429569\n",
            " 6.82018742 7.45509355 7.13269976 7.21224132 7.41877773 7.24384828\n",
            " 6.66633595 7.37255642 7.1254868  7.25635592 7.18194201 6.80648452\n",
            " 7.05190052 7.27951174 7.32700082 7.0904115  7.019736   7.35637312\n",
            " 7.35266843 7.06841081 7.20688314 7.48492591 6.68922299 7.04384097\n",
            " 6.91099497 7.37521764 7.27193329 7.35841516 7.07171361 7.26107071\n",
            " 7.1711805  7.79275532 7.22116223 7.28286861 7.11619216 6.71568134\n",
            " 7.42113484 7.33751963 7.36962532 7.41978875 7.06415293 6.82291463\n",
            " 6.60579813 6.78946506 7.27727063 7.22577676 7.04492278 7.06963467\n",
            " 7.46243534 7.07191586 7.03951167 7.23239134 7.05998728 7.00040896\n",
            " 6.87180169]\n"
          ]
        }
      ]
    },
    {
      "cell_type": "code",
      "source": [
        "from sklearn.metrics import r2_score\n",
        "r2_score(y_test,y_pred)"
      ],
      "metadata": {
        "colab": {
          "base_uri": "https://localhost:8080/"
        },
        "id": "9IlHkpPyyoGE",
        "outputId": "8214117f-0705-4480-c1c1-3df855a3c548"
      },
      "execution_count": null,
      "outputs": [
        {
          "output_type": "execute_result",
          "data": {
            "text/plain": [
              "0.06802592306291066"
            ]
          },
          "metadata": {},
          "execution_count": 9
        }
      ]
    },
    {
      "cell_type": "code",
      "source": [
        "import matplotlib.pyplot as plt\n",
        "plt.figure(figsize=(15,10))\n",
        "plt.scatter(y_test,y_pred)\n",
        "plt.xlabel('Actual')\n",
        "plt.ylabel('Predicted')\n",
        "plt.title('Actual v/s Predicted')"
      ],
      "metadata": {
        "colab": {
          "base_uri": "https://localhost:8080/",
          "height": 617
        },
        "id": "HTIyV92izDXa",
        "outputId": "dd49674e-9af9-40aa-bb09-6a16073e3e90"
      },
      "execution_count": null,
      "outputs": [
        {
          "output_type": "execute_result",
          "data": {
            "text/plain": [
              "Text(0.5, 1.0, 'Actual v/s Predicted')"
            ]
          },
          "metadata": {},
          "execution_count": 10
        },
        {
          "output_type": "display_data",
          "data": {
            "text/plain": [
              "<Figure size 1080x720 with 1 Axes>"
            ],
            "image/png": "[encoded data removed]"
          },
          "metadata": {
            "needs_background": "light"
          }
        }
      ]
    },
    {
      "cell_type": "code",
      "source": [
        "import seaborn as sns"
      ],
      "metadata": {
        "id": "rGMmJa_LzITT"
      },
      "execution_count": null,
      "outputs": []
    },
    {
      "cell_type": "code",
      "source": [
        "sns.set(color_codes=True)\n",
        "sns.set_style(\"white\")\n",
        "\n",
        "ax = sns.regplot(y_test, y_pred, scatter_kws={'alpha':0.6})\n",
        "ax.set_xlabel('Experimental pIC50', fontsize='large', fontweight='bold')\n",
        "ax.set_ylabel('Predicted pIC50', fontsize='large', fontweight='bold')\n",
        "ax.set_xlim(4, 10)\n",
        "ax.set_ylim(5, 9)\n",
        "ax.figure.set_size_inches(10, 10)\n",
        "plt.show\n",
        "plt.savefig('SVR plot')"
      ],
      "metadata": {
        "colab": {
          "base_uri": "https://localhost:8080/",
          "height": 671
        },
        "id": "rwA_23iDzMsF",
        "outputId": "76ab3d70-3950-4202-bd9d-46faa0e12a64"
      },
      "execution_count": null,
      "outputs": [
        {
          "output_type": "stream",
          "name": "stderr",
          "text": [
            "/usr/local/lib/python3.7/dist-packages/seaborn/_decorators.py:43: FutureWarning: Pass the following variables as keyword args: x, y. From version 0.12, the only valid positional argument will be `data`, and passing other arguments without an explicit keyword will result in an error or misinterpretation.\n",
            "  FutureWarning\n"
          ]
        },
        {
          "output_type": "display_data",
          "data": {
            "text/plain": [
              "<Figure size 720x720 with 1 Axes>"
            ],
            "image/png": "[encoded data removed]"
          },
          "metadata": {}
        }
      ]
    },
    {
      "cell_type": "code",
      "source": [
        "pred_y_df=pd.DataFrame({'Actual Value':y_test,'Predicted Value':y_pred, 'Difference': y_test-y_pred})\n",
        "pred_y_df[0:20]"
      ],
      "metadata": {
        "id": "7beXDjfCzgpO",
        "outputId": "19ece787-cd56-44d3-d74e-1be4d4d4b70e",
        "colab": {
          "base_uri": "https://localhost:8080/",
          "height": 677
        }
      },
      "execution_count": null,
      "outputs": [
        {
          "output_type": "execute_result",
          "data": {
            "text/plain": [
              "     Actual Value  Predicted Value  Difference\n",
              "292      7.537602         6.766915    0.770687\n",
              "66       6.585695         7.144061   -0.558366\n",
              "174      8.207608         7.020540    1.187068\n",
              "223      9.853872         7.583976    2.269896\n",
              "193      9.060481         7.252110    1.808371\n",
              "130      6.000000         7.345163   -1.345163\n",
              "44       8.455932         7.472233    0.983699\n",
              "282      4.429457         7.369020   -2.939563\n",
              "307      7.045757         6.990389    0.055368\n",
              "286      8.698970         7.038519    1.660451\n",
              "293      7.327902         6.690348    0.637554\n",
              "314      6.000000         7.026570   -1.026570\n",
              "167      8.494850         7.124709    1.370141\n",
              "289      7.769551         6.694927    1.074624\n",
              "37       5.677781         7.026655   -1.348874\n",
              "34       5.920819         7.187325   -1.266506\n",
              "255      8.221849         7.052791    1.169058\n",
              "28       4.585027         6.846929   -2.261903\n",
              "12       5.397940         7.031472   -1.633532\n",
              "271      7.494850         7.237592    0.257258"
            ],
            "text/html": [
              "\n",
              "  <div id=\"df-5c988456-5c6d-41d3-8cf9-b2752815ead9\">\n",
              "    <div class=\"colab-df-container\">\n",
              "      <div>\n",
              "<style scoped>\n",
              "    .dataframe tbody tr th:only-of-type {\n",
              "        vertical-align: middle;\n",
              "    }\n",
              "\n",
              "    .dataframe tbody tr th {\n",
              "        vertical-align: top;\n",
              "    }\n",
              "\n",
              "    .dataframe thead th {\n",
              "        text-align: right;\n",
              "    }\n",
              "</style>\n",
              "<table border=\"1\" class=\"dataframe\">\n",
              "  <thead>\n",
              "    <tr style=\"text-align: right;\">\n",
              "      <th></th>\n",
              "      <th>Actual Value</th>\n",
              "      <th>Predicted Value</th>\n",
              "      <th>Difference</th>\n",
              "    </tr>\n",
              "  </thead>\n",
              "  <tbody>\n",
              "    <tr>\n",
              "      <th>292</th>\n",
              "      <td>7.537602</td>\n",
              "      <td>6.766915</td>\n",
              "      <td>0.770687</td>\n",
              "    </tr>\n",
              "    <tr>\n",
              "      <th>66</th>\n",
              "      <td>6.585695</td>\n",
              "      <td>7.144061</td>\n",
              "      <td>-0.558366</td>\n",
              "    </tr>\n",
              "    <tr>\n",
              "      <th>174</th>\n",
              "      <td>8.207608</td>\n",
              "      <td>7.020540</td>\n",
              "      <td>1.187068</td>\n",
              "    </tr>\n",
              "    <tr>\n",
              "      <th>223</th>\n",
              "      <td>9.853872</td>\n",
              "      <td>7.583976</td>\n",
              "      <td>2.269896</td>\n",
              "    </tr>\n",
              "    <tr>\n",
              "      <th>193</th>\n",
              "      <td>9.060481</td>\n",
              "      <td>7.252110</td>\n",
              "      <td>1.808371</td>\n",
              "    </tr>\n",
              "    <tr>\n",
              "      <th>130</th>\n",
              "      <td>6.000000</td>\n",
              "      <td>7.345163</td>\n",
              "      <td>-1.345163</td>\n",
              "    </tr>\n",
              "    <tr>\n",
              "      <th>44</th>\n",
              "      <td>8.455932</td>\n",
              "      <td>7.472233</td>\n",
              "      <td>0.983699</td>\n",
              "    </tr>\n",
              "    <tr>\n",
              "      <th>282</th>\n",
              "      <td>4.429457</td>\n",
              "      <td>7.369020</td>\n",
              "      <td>-2.939563</td>\n",
              "    </tr>\n",
              "    <tr>\n",
              "      <th>307</th>\n",
              "      <td>7.045757</td>\n",
              "      <td>6.990389</td>\n",
              "      <td>0.055368</td>\n",
              "    </tr>\n",
              "    <tr>\n",
              "      <th>286</th>\n",
              "      <td>8.698970</td>\n",
              "      <td>7.038519</td>\n",
              "      <td>1.660451</td>\n",
              "    </tr>\n",
              "    <tr>\n",
              "      <th>293</th>\n",
              "      <td>7.327902</td>\n",
              "      <td>6.690348</td>\n",
              "      <td>0.637554</td>\n",
              "    </tr>\n",
              "    <tr>\n",
              "      <th>314</th>\n",
              "      <td>6.000000</td>\n",
              "      <td>7.026570</td>\n",
              "      <td>-1.026570</td>\n",
              "    </tr>\n",
              "    <tr>\n",
              "      <th>167</th>\n",
              "      <td>8.494850</td>\n",
              "      <td>7.124709</td>\n",
              "      <td>1.370141</td>\n",
              "    </tr>\n",
              "    <tr>\n",
              "      <th>289</th>\n",
              "      <td>7.769551</td>\n",
              "      <td>6.694927</td>\n",
              "      <td>1.074624</td>\n",
              "    </tr>\n",
              "    <tr>\n",
              "      <th>37</th>\n",
              "      <td>5.677781</td>\n",
              "      <td>7.026655</td>\n",
              "      <td>-1.348874</td>\n",
              "    </tr>\n",
              "    <tr>\n",
              "      <th>34</th>\n",
              "      <td>5.920819</td>\n",
              "      <td>7.187325</td>\n",
              "      <td>-1.266506</td>\n",
              "    </tr>\n",
              "    <tr>\n",
              "      <th>255</th>\n",
              "      <td>8.221849</td>\n",
              "      <td>7.052791</td>\n",
              "      <td>1.169058</td>\n",
              "    </tr>\n",
              "    <tr>\n",
              "      <th>28</th>\n",
              "      <td>4.585027</td>\n",
              "      <td>6.846929</td>\n",
              "      <td>-2.261903</td>\n",
              "    </tr>\n",
              "    <tr>\n",
              "      <th>12</th>\n",
              "      <td>5.397940</td>\n",
              "      <td>7.031472</td>\n",
              "      <td>-1.633532</td>\n",
              "    </tr>\n",
              "    <tr>\n",
              "      <th>271</th>\n",
              "      <td>7.494850</td>\n",
              "      <td>7.237592</td>\n",
              "      <td>0.257258</td>\n",
              "    </tr>\n",
              "  </tbody>\n",
              "</table>\n",
              "</div>\n",
              "      <button class=\"colab-df-convert\" onclick=\"convertToInteractive('df-5c988456-5c6d-41d3-8cf9-b2752815ead9')\"\n",
              "              title=\"Convert this dataframe to an interactive table.\"\n",
              "              style=\"display:none;\">\n",
              "        \n",
              "  <svg xmlns=\"http://www.w3.org/2000/svg\" height=\"24px\"viewBox=\"0 0 24 24\"\n",
              "       width=\"24px\">\n",
              "    <path d=\"M0 0h24v24H0V0z\" fill=\"none\"/>\n",
              "    <path d=\"M18.56 5.44l.94 2.06.94-2.06 2.06-.94-2.06-.94-.94-2.06-.94 2.06-2.06.94zm-11 1L8.5 8.5l.94-2.06 2.06-.94-2.06-.94L8.5 2.5l-.94 2.06-2.06.94zm10 10l.94 2.06.94-2.06 2.06-.94-2.06-.94-.94-2.06-.94 2.06-2.06.94z\"/><path d=\"M17.41 7.96l-1.37-1.37c-.4-.4-.92-.59-1.43-.59-.52 0-1.04.2-1.43.59L10.3 9.45l-7.72 7.72c-.78.78-.78 2.05 0 2.83L4 21.41c.39.39.9.59 1.41.59.51 0 1.02-.2 1.41-.59l7.78-7.78 2.81-2.81c.8-.78.8-2.07 0-2.86zM5.41 20L4 18.59l7.72-7.72 1.47 1.35L5.41 20z\"/>\n",
              "  </svg>\n",
              "      </button>\n",
              "      \n",
              "  <style>\n",
              "    .colab-df-container {\n",
              "      display:flex;\n",
              "      flex-wrap:wrap;\n",
              "      gap: 12px;\n",
              "    }\n",
              "\n",
              "    .colab-df-convert {\n",
              "      background-color: #E8F0FE;\n",
              "      border: none;\n",
              "      border-radius: 50%;\n",
              "      cursor: pointer;\n",
              "      display: none;\n",
              "      fill: #1967D2;\n",
              "      height: 32px;\n",
              "      padding: 0 0 0 0;\n",
              "      width: 32px;\n",
              "    }\n",
              "\n",
              "    .colab-df-convert:hover {\n",
              "      background-color: #E2EBFA;\n",
              "      box-shadow: 0px 1px 2px rgba(60, 64, 67, 0.3), 0px 1px 3px 1px rgba(60, 64, 67, 0.15);\n",
              "      fill: #174EA6;\n",
              "    }\n",
              "\n",
              "    [theme=dark] .colab-df-convert {\n",
              "      background-color: #3B4455;\n",
              "      fill: #D2E3FC;\n",
              "    }\n",
              "\n",
              "    [theme=dark] .colab-df-convert:hover {\n",
              "      background-color: #434B5C;\n",
              "      box-shadow: 0px 1px 3px 1px rgba(0, 0, 0, 0.15);\n",
              "      filter: drop-shadow(0px 1px 2px rgba(0, 0, 0, 0.3));\n",
              "      fill: #FFFFFF;\n",
              "    }\n",
              "  </style>\n",
              "\n",
              "      <script>\n",
              "        const buttonEl =\n",
              "          document.querySelector('#df-5c988456-5c6d-41d3-8cf9-b2752815ead9 button.colab-df-convert');\n",
              "        buttonEl.style.display =\n",
              "          google.colab.kernel.accessAllowed ? 'block' : 'none';\n",
              "\n",
              "        async function convertToInteractive(key) {\n",
              "          const element = document.querySelector('#df-5c988456-5c6d-41d3-8cf9-b2752815ead9');\n",
              "          const dataTable =\n",
              "            await google.colab.kernel.invokeFunction('convertToInteractive',\n",
              "                                                     [key], {});\n",
              "          if (!dataTable) return;\n",
              "\n",
              "          const docLinkHtml = 'Like what you see? Visit the ' +\n",
              "            '<a target=\"_blank\" href=https://colab.research.google.com/notebooks/data_table.ipynb>data table notebook</a>'\n",
              "            + ' to learn more about interactive tables.';\n",
              "          element.innerHTML = '';\n",
              "          dataTable['output_type'] = 'display_data';\n",
              "          await google.colab.output.renderOutput(dataTable, element);\n",
              "          const docLink = document.createElement('div');\n",
              "          docLink.innerHTML = docLinkHtml;\n",
              "          element.appendChild(docLink);\n",
              "        }\n",
              "      </script>\n",
              "    </div>\n",
              "  </div>\n",
              "  "
            ]
          },
          "metadata": {},
          "execution_count": 14
        }
      ]
    }
  ]
}